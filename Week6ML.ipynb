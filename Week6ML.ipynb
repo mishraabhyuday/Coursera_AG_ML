{
 "cells": [
  {
   "cell_type": "code",
   "execution_count": 1,
   "metadata": {},
   "outputs": [],
   "source": [
    "import numpy as np\n",
    "import matplotlib.pyplot as plt\n",
    "import pandas as pd\n",
    "import scipy.io\n",
    "from scipy.io import loadmat\n",
    "import scipy.optimize"
   ]
  },
  {
   "cell_type": "markdown",
   "metadata": {},
   "source": [
    "#### visualizing data"
   ]
  },
  {
   "cell_type": "code",
   "execution_count": 2,
   "metadata": {},
   "outputs": [
    {
     "name": "stdout",
     "output_type": "stream",
     "text": [
      "[[-15.93675813]\n",
      " [-29.15297922]\n",
      " [ 36.18954863]\n",
      " [ 37.49218733]\n",
      " [-48.05882945]\n",
      " [ -8.94145794]\n",
      " [ 15.30779289]\n",
      " [-34.70626581]\n",
      " [  1.38915437]\n",
      " [-44.38375985]\n",
      " [  7.01350208]\n",
      " [ 22.76274892]]\n"
     ]
    }
   ],
   "source": [
    "\n",
    "dmat = loadmat('C:/Users/mishr/OneDrive/Desktop/Data_Science/ML_Assignments/machine-learning-ex/ex5/ex5data1.mat')\n",
    "X = dmat.get('X')\n",
    "y = dmat.get('y')\n",
    "Xtest = dmat.get('Xtest')\n",
    "ytest = dmat.get('ytest')\n",
    "Xval = dmat.get('Xval')\n",
    "yval = dmat.get('yval')\n",
    "print(X)"
   ]
  },
  {
   "cell_type": "code",
   "execution_count": 3,
   "metadata": {},
   "outputs": [
    {
     "name": "stdout",
     "output_type": "stream",
     "text": [
      "12\n"
     ]
    }
   ],
   "source": [
    "# m is the number of training eg\n",
    "m = X.shape[0]\n",
    "print(m)"
   ]
  },
  {
   "cell_type": "markdown",
   "metadata": {},
   "source": [
    "#### plotting Data"
   ]
  },
  {
   "cell_type": "code",
   "execution_count": 4,
   "metadata": {},
   "outputs": [],
   "source": [
    "def plotData(X,y):\n",
    "    plt.figure(figsize = (9,6))\n",
    "    plt.plot(X,y,'rx',ms='10',lw='1.5')\n",
    "    plt.ylabel('Water flowing out of the dam (y)')\n",
    "    plt.xlabel('Change in water level (x)')\n",
    "    plt.grid('True')"
   ]
  },
  {
   "cell_type": "code",
   "execution_count": 5,
   "metadata": {},
   "outputs": [
    {
     "data": {
      "image/png": "[encoded data removed]",
      "text/plain": [
       "<Figure size 648x432 with 1 Axes>"
      ]
     },
     "metadata": {
      "needs_background": "light"
     },
     "output_type": "display_data"
    }
   ],
   "source": [
    "plotData(X,y)"
   ]
  },
  {
   "cell_type": "code",
   "execution_count": 6,
   "metadata": {},
   "outputs": [],
   "source": [
    "def linearRegCostFunction(X,y,theta,lamda):\n",
    "    m = len(y)\n",
    "    theta_reg = np.zeros((theta.shape[0],theta.shape[1]))\n",
    "    theta_reg[1:,:] = theta[1:,:]\n",
    "    h = np.dot(X,theta)\n",
    "    error = h-y\n",
    "    J = 1/(2*m)*(np.dot(error.T,error)) + lamda/(2*m)*np.sum(theta_reg**2)\n",
    "    grad = np.zeros(theta.shape)\n",
    "    grad = 1/m*(np.dot(X.T,error)) + lamda/m*np.sum(theta_reg)\n",
    "    grad.flatten()\n",
    "    return (J,grad)"
   ]
  },
  {
   "cell_type": "code",
   "execution_count": 7,
   "metadata": {},
   "outputs": [
    {
     "name": "stdout",
     "output_type": "stream",
     "text": [
      "[[303.99319222]]\n",
      "[[-15.21968234]\n",
      " [598.25074417]]\n"
     ]
    }
   ],
   "source": [
    "initial_theta = np.array([[1],[1]])\n",
    "#print(theta[1:,:])\n",
    "Xinput = np.append(np.ones((m,1)),X,axis=1)\n",
    "J,grad = linearRegCostFunction(Xinput, y, initial_theta, 1);\n",
    "print(J)\n",
    "print(grad)\n"
   ]
  },
  {
   "cell_type": "code",
   "execution_count": 8,
   "metadata": {},
   "outputs": [],
   "source": [
    "def sigmoid(z):\n",
    "    #1/(1+exp(-z))\n",
    "    z = np.array(z)\n",
    "    g = np.zeros(z.shape)\n",
    "    g = 1/(1+np.exp(-z))\n",
    "    return g"
   ]
  },
  {
   "cell_type": "code",
   "execution_count": 9,
   "metadata": {},
   "outputs": [],
   "source": [
    "def gradientDescentReg(x,y,alpha,theta,num_iters,lamda):\n",
    "    m= len(y)\n",
    "    j_history=[]\n",
    "    for i in range(num_iters):\n",
    "        j,g = linearRegCostFunction(x,y,theta,lamda)\n",
    "        theta = theta -alpha*g\n",
    "        j_history.append(j)\n",
    "        \n",
    "    return theta,j_history"
   ]
  },
  {
   "cell_type": "code",
   "execution_count": 10,
   "metadata": {},
   "outputs": [
    {
     "name": "stdout",
     "output_type": "stream",
     "text": [
      "[[12.83833648]\n",
      " [ 0.36628247]]\n"
     ]
    }
   ],
   "source": [
    "ld=0\n",
    "theta,J_history = gradientDescentReg(Xinput,y,0.001,initial_theta,4000,ld)\n",
    "print(theta)"
   ]
  },
  {
   "cell_type": "code",
   "execution_count": 11,
   "metadata": {},
   "outputs": [
    {
     "data": {
      "image/png": "[encoded data removed]",
      "text/plain": [
       "<Figure size 432x288 with 1 Axes>"
      ]
     },
     "metadata": {
      "needs_background": "light"
     },
     "output_type": "display_data"
    }
   ],
   "source": [
    "plt.plot(X, y, 'rx', markersize=10, linewidth=1.5)\n",
    "plt.plot(X,np.dot(Xinput,theta),'b-',linewidth=2)\n",
    "plt.xlabel('Change in water level (x)')\n",
    "plt.ylabel('Water flowing out of the dam (y)')\n",
    "plt.axis([-60,50,-5,50])\n",
    "plt.show()"
   ]
  },
  {
   "cell_type": "markdown",
   "metadata": {},
   "source": [
    "# This ain't a good fit(Hence the model maybe wrong)"
   ]
  },
  {
   "cell_type": "code",
   "execution_count": 12,
   "metadata": {},
   "outputs": [],
   "source": [
    "def learningCurve(X,y,Xval,yval,lamda):\n",
    "    m = len(y)\n",
    "    error_train = np.zeros((m,1))\n",
    "    error_val   = np.zeros((m,1))\n",
    "    for i in range(1,m+1):\n",
    "        Xi = X[0:i,:]\n",
    "        yi = y[0:i,:]\n",
    "        initial_theta = np.zeros((Xi.shape[1],1))\n",
    "        theta,j_history = gradientDescentReg(Xi,yi,0.001,initial_theta,3000,lamda)\n",
    "        j,grad = linearRegCostFunction(Xi,yi,theta,0)\n",
    "        error_train[i-1] = j\n",
    "        jcv,gradcv = linearRegCostFunction(Xval,yval,theta,0)\n",
    "        error_val[i-1] = jcv\n",
    "        \n",
    "    return (error_train,error_val)   "
   ]
  },
  {
   "cell_type": "code",
   "execution_count": 13,
   "metadata": {},
   "outputs": [
    {
     "name": "stdout",
     "output_type": "stream",
     "text": [
      "[[-15.93675813]\n",
      " [-29.15297922]\n",
      " [ 36.18954863]\n",
      " [ 37.49218733]\n",
      " [-48.05882945]]\n"
     ]
    }
   ],
   "source": [
    "print(X[0:5,:])"
   ]
  },
  {
   "cell_type": "code",
   "execution_count": 14,
   "metadata": {},
   "outputs": [
    {
     "name": "stdout",
     "output_type": "stream",
     "text": [
      "# Training Examples\tTrain Error\tCross Validation Error\n",
      "\n",
      "1 [9.86076132e-32] [205.12109575]\n",
      "2 [0.26667458] [164.25356055]\n",
      "3 [3.54818564] [45.54817577]\n",
      "4 [3.18748894] [50.52763122]\n",
      "5 [13.54362451] [33.88189168]\n",
      "6 [19.77082269] [33.33501764]\n",
      "7 [20.35490054] [32.44949026]\n",
      "8 [18.49136793] [30.89743482]\n",
      "9 [22.86492663] [32.09291116]\n",
      "10 [23.62456104] [29.65401403]\n",
      "11 [24.60460849] [30.89007392]\n",
      "12 [22.62043727] [30.55405372]\n"
     ]
    },
    {
     "data": {
      "image/png": "[encoded data removed]",
      "text/plain": [
       "<Figure size 432x288 with 1 Axes>"
      ]
     },
     "metadata": {
      "needs_background": "light"
     },
     "output_type": "display_data"
    }
   ],
   "source": [
    "lamda=0\n",
    "Xval_inp = np.append(np.ones((Xval.shape[0],1)),Xval,axis=1)\n",
    "error_train, error_val = learningCurve(Xinput, y,Xval_inp, yval,lamda);\n",
    "x = np.arange(1,m+1,1)\n",
    "plt.plot(x,error_train,x,error_val)\n",
    "plt.title('Learning curve for linear regression')\n",
    "#plt.legend('Train', 'Cross Validation')\n",
    "plt.xlabel('Number of training examples')\n",
    "plt.ylabel('Error')\n",
    "plt.axis([0,13,0,150])\n",
    "print('# Training Examples\\tTrain Error\\tCross Validation Error\\n');\n",
    "for i in range(1,m+1):\n",
    "    print(i, error_train[i-1], error_val[i-1])"
   ]
  },
  {
   "cell_type": "markdown",
   "metadata": {},
   "source": [
    "# Creating polynomial features"
   ]
  },
  {
   "cell_type": "code",
   "execution_count": 15,
   "metadata": {},
   "outputs": [],
   "source": [
    "def polyFeatures(X,p):\n",
    "    temp =X\n",
    "    Xp=X\n",
    "    Xp = np.reshape(Xp,(X.shape[0],X.shape[1]))\n",
    "    for i in range(p-1):\n",
    "        temp = np.multiply(temp,X)\n",
    "        Xp=np.hstack((Xp,temp))\n",
    "    \n",
    "    return Xp\n",
    "    "
   ]
  },
  {
   "cell_type": "code",
   "execution_count": 16,
   "metadata": {},
   "outputs": [],
   "source": [
    "def featureNormalize(X):\n",
    "    mu    = np.mean(X,axis=0)\n",
    "    sigma = np.std( X,axis=0)\n",
    "    X_Norm = np.divide(X-mu,sigma)\n",
    "    return (X_Norm,mu,sigma)"
   ]
  },
  {
   "cell_type": "code",
   "execution_count": 17,
   "metadata": {},
   "outputs": [
    {
     "name": "stdout",
     "output_type": "stream",
     "text": [
      "(12, 9)\n"
     ]
    }
   ],
   "source": [
    "p=8\n",
    "X_p = polyFeatures(X,p)\n",
    "X_p,mu,sigma = featureNormalize(X_p)\n",
    "#print(X_p.shape)\n",
    "X_poly = np.hstack((np.ones((X_p.shape[0],1)),X_p))\n",
    "print(X_poly.shape)"
   ]
  },
  {
   "cell_type": "code",
   "execution_count": 18,
   "metadata": {},
   "outputs": [
    {
     "name": "stdout",
     "output_type": "stream",
     "text": [
      "(21, 9)\n",
      "(21, 9)\n"
     ]
    }
   ],
   "source": [
    "X_t = polyFeatures(Xtest,p)\n",
    "X_t = np.divide(X_t-mu,sigma)\n",
    "X_test = np.hstack((np.ones((X_t.shape[0],1)),X_t))\n",
    "X_v = polyFeatures(Xval,p)\n",
    "X_v = np.divide(X_v-mu,sigma)\n",
    "X_val = np.hstack((np.ones((X_v.shape[0],1)),X_v))\n",
    "print(X_test.shape)\n",
    "print(X_val.shape)"
   ]
  },
  {
   "cell_type": "code",
   "execution_count": 19,
   "metadata": {},
   "outputs": [],
   "source": [
    "lamda=1\n",
    "initial_theta = np.zeros((p+1,1))\n",
    "theta,j_history = gradientDescentReg(X_poly,y,0.3,initial_theta,20000,lamda)"
   ]
  },
  {
   "cell_type": "code",
   "execution_count": 20,
   "metadata": {},
   "outputs": [],
   "source": [
    "def plotFit(xmin,xmax,mu,sigma,theta,p):\n",
    "    x = np.arange(xmin-15,xmax+25,0.05).reshape((-1,1))\n",
    "    x_p = polyFeatures(x,p)\n",
    "    x_p = np.divide(x_p-mu,sigma)\n",
    "    x_p = np.hstack((np.ones((x_p.shape[0],1)),x_p))\n",
    "    plt.plot(x,np.dot(x_p,theta),'b--',lw=2)"
   ]
  },
  {
   "cell_type": "code",
   "execution_count": 21,
   "metadata": {},
   "outputs": [
    {
     "data": {
      "image/png": "[encoded data removed]",
      "text/plain": [
       "<Figure size 720x576 with 1 Axes>"
      ]
     },
     "metadata": {
      "needs_background": "light"
     },
     "output_type": "display_data"
    }
   ],
   "source": [
    "plt.figure(figsize=(10,8))\n",
    "plt.plot(X, y, 'rx', markersize=10, linewidth=1.5)\n",
    "plotFit(np.min(X), np.max(X), mu, sigma,theta, p)\n",
    "plt.xlabel('Change in water level (x)')\n",
    "plt.ylabel('Water flowing out of the dam (y)')\n",
    "plt.title ('Polynomial Regression Fit ')\n",
    "plt.axis([-80,50,-50,60])\n",
    "plt.show()"
   ]
  },
  {
   "cell_type": "code",
   "execution_count": 22,
   "metadata": {},
   "outputs": [
    {
     "data": {
      "text/plain": [
       "(0.0, 13.0, 0.0, 100.0)"
      ]
     },
     "execution_count": 22,
     "metadata": {},
     "output_type": "execute_result"
    },
    {
     "data": {
      "image/png": "[encoded data removed]",
      "text/plain": [
       "<Figure size 432x288 with 1 Axes>"
      ]
     },
     "metadata": {
      "needs_background": "light"
     },
     "output_type": "display_data"
    }
   ],
   "source": [
    "lamda=0\n",
    "error_train, error_val = learningCurve(X_poly, y, X_val, yval, lamda)\n",
    "xi = np.arange(1,m+1,1)\n",
    "plt.plot(xi, error_train, xi, error_val)\n",
    "plt.title('Polynomial Regression Learning Curve' )\n",
    "plt.xlabel('Number of training examples')\n",
    "plt.ylabel('Error')\n",
    "plt.axis([0,13,0,100])\n",
    "#plt.legend('Train', 'Cross Validation')"
   ]
  },
  {
   "cell_type": "markdown",
   "metadata": {},
   "source": [
    "# Choosing appropriate lamda"
   ]
  },
  {
   "cell_type": "code",
   "execution_count": 31,
   "metadata": {},
   "outputs": [],
   "source": [
    "def validationCurve(X_poly,y,X_val,yval):\n",
    "    lamda_vec = np.array([0, 0.001, 0.003, 0.01, 0.03, 0.1, 0.3, 1, 3, 10]).reshape((-1,1))\n",
    "    error_val = np.zeros((lamda_vec.shape[0],1))\n",
    "    error_train = np.zeros((lamda_vec.shape[0],1))\n",
    "    lamda_optim=1\n",
    "    Jcv_compare=5000000\n",
    "    Jtest = 5000000\n",
    "    for i in range(len(lamda_vec)):\n",
    "        initial_theta = np.zeros((X_poly.shape[1],1))\n",
    "        theta,j_history = gradientDescentReg(X_poly,y,0.002,initial_theta,4000,lamda_vec[i])\n",
    "        J,grad = linearRegCostFunction(X_poly, y, theta, 0)\n",
    "        Jcv,gradcv = linearRegCostFunction(X_val, yval, theta, 0)\n",
    "        error_val[i] = Jcv        \n",
    "        error_train[i] = J\n",
    "        temp = Jcv.item()\n",
    "        if(temp<=Jcv_compare):\n",
    "            lamda_optim = lamda_vec[i]\n",
    "            Jcv_compare=temp\n",
    "    \n",
    "    \n",
    "    return (lamda_vec,error_train,error_val,lamda_optim)   "
   ]
  },
  {
   "cell_type": "code",
   "execution_count": 32,
   "metadata": {},
   "outputs": [
    {
     "data": {
      "image/png": "[encoded data removed]",
      "text/plain": [
       "<Figure size 720x720 with 1 Axes>"
      ]
     },
     "metadata": {
      "needs_background": "light"
     },
     "output_type": "display_data"
    },
    {
     "name": "stdout",
     "output_type": "stream",
     "text": [
      "[0.1]\n"
     ]
    }
   ],
   "source": [
    "(lamda_vec,error_train,error_val,lamda_optim) = validationCurve(X_poly,y,X_val,yval)\n",
    "plt.figure(figsize=(10,10))\n",
    "plt.plot(lamda_vec,error_train,lamda_vec,error_val)\n",
    "plt.title('Selecting \\lambda using a cross validation set')\n",
    "#plt.legend(['Train', 'Cross Validation'])\n",
    "plt.xlabel('lambda')\n",
    "plt.ylabel('Error')\n",
    "plt.show()\n",
    "print(lamda_optim)\n"
   ]
  },
  {
   "cell_type": "markdown",
   "metadata": {},
   "source": [
    "# Best lambda??"
   ]
  },
  {
   "cell_type": "code",
   "execution_count": 33,
   "metadata": {},
   "outputs": [
    {
     "name": "stdout",
     "output_type": "stream",
     "text": [
      "[0.1]\n"
     ]
    }
   ],
   "source": [
    "print(lamda_optim)"
   ]
  },
  {
   "cell_type": "code",
   "execution_count": 34,
   "metadata": {},
   "outputs": [
    {
     "name": "stdout",
     "output_type": "stream",
     "text": [
      "[[3.56431899]]\n"
     ]
    }
   ],
   "source": [
    "optim_theta,j_history = gradientDescentReg(X_poly,y,0.003,initial_theta,3000,lamda_optim)\n",
    "Jtest,gradtest = linearRegCostFunction(X_test, ytest, optim_theta, 0)\n",
    "print(Jtest)"
   ]
  },
  {
   "cell_type": "markdown",
   "metadata": {},
   "source": [
    "# Randomly selecting training and testing examples for learning curves"
   ]
  },
  {
   "cell_type": "code",
   "execution_count": 35,
   "metadata": {},
   "outputs": [],
   "source": [
    "def learningCurveRandom(X,y,Xval,yval,lamda):\n",
    "    m = len(y)\n",
    "    error_train = np.zeros((m,1))\n",
    "    error_val   = np.zeros((m,1))\n",
    "    for i in range(1,m+1):\n",
    "        idx =np.random.randint(m,size=i)\n",
    "        Xi = X[idx,:]\n",
    "        yi = y[idx,:]\n",
    "        initial_theta = np.zeros((Xi.shape[1],1))\n",
    "        theta,j_history = gradientDescentReg(Xi,yi,0.001,initial_theta,3000,lamda)\n",
    "        j,grad = linearRegCostFunction(Xi,yi,theta,0)\n",
    "        error_train[i-1] = j\n",
    "        jcv,gradcv = linearRegCostFunction(Xval,yval,theta,0)\n",
    "        error_val[i-1] = jcv\n",
    "        \n",
    "    return (error_train,error_val)   \n",
    "    "
   ]
  },
  {
   "cell_type": "code",
   "execution_count": 36,
   "metadata": {},
   "outputs": [
    {
     "data": {
      "text/plain": [
       "(0.0, 14.0, 0.0, 150.0)"
      ]
     },
     "execution_count": 36,
     "metadata": {},
     "output_type": "execute_result"
    },
    {
     "data": {
      "image/png": "[encoded data removed]",
      "text/plain": [
       "<Figure size 432x288 with 1 Axes>"
      ]
     },
     "metadata": {
      "needs_background": "light"
     },
     "output_type": "display_data"
    }
   ],
   "source": [
    "error_train = np.zeros((X_poly.shape[0],1))\n",
    "error_val = np.zeros((X_poly.shape[0],1))\n",
    "for b in range(50):\n",
    "    et,ev = learningCurveRandom(X_poly,y,X_val,yval,0.01)\n",
    "    error_train  = error_train + et\n",
    "    error_val = error_val + ev\n",
    "\n",
    "error_train = np.divide(error_train,50)\n",
    "error_val = np.divide(error_val,50)\n",
    "xi = np.arange(1,m+1,1)\n",
    "plt.plot(xi, error_train, xi, error_val)\n",
    "plt.title('Polynomial Regression Learning Curve' )\n",
    "plt.xlabel('Number of training examples')\n",
    "plt.ylabel('Error')\n",
    "plt.axis([0,14,0,150])\n"
   ]
  },
  {
   "cell_type": "markdown",
   "metadata": {},
   "source": [
    "# End of Exercise"
   ]
  }
 ],
 "metadata": {
  "kernelspec": {
   "display_name": "Python 3",
   "language": "python",
   "name": "python3"
  },
  "language_info": {
   "codemirror_mode": {
    "name": "ipython",
    "version": 3
   },
   "file_extension": ".py",
   "mimetype": "text/x-python",
   "name": "python",
   "nbconvert_exporter": "python",
   "pygments_lexer": "ipython3",
   "version": "3.8.3"
  }
 },
 "nbformat": 4,
 "nbformat_minor": 4
}
